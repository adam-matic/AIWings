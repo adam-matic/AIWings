{
 "cells": [
  {
   "cell_type": "code",
   "execution_count": 31,
   "metadata": {},
   "outputs": [],
   "source": [
    "# This notebook shows an example of creating a DeepLabCut dataset from a collection of images\n",
    "# and labels in TPS format.\n",
    "# See also the config.yaml file\n"
   ]
  },
  {
   "cell_type": "code",
   "execution_count": null,
   "metadata": {},
   "outputs": [],
   "source": [
    "import glob\n",
    "import shutil\n",
    "from PIL import Image"
   ]
  },
  {
   "cell_type": "code",
   "execution_count": null,
   "metadata": {},
   "outputs": [],
   "source": [
    "## images from a FA_MAT_GAT dataset\n",
    "images = glob.glob(r\"FA_MAT_GAT/**/**/*.tif\")\n",
    "images"
   ]
  },
  {
   "cell_type": "code",
   "execution_count": 71,
   "metadata": {},
   "outputs": [],
   "source": [
    "## Copying the images to a DeepLabCut project as if they were extracted from a video, convert to png\n",
    "\n",
    "for f in images:\n",
    "    folder = f[f.find(\"\\\\\")+1:f.rfind((\"\\\\\"))] \n",
    "    nf = folder.replace(\"\\\\\", \".\")\n",
    "    img_name = f[f.rfind(\"\\\\\")+1:]\n",
    "    img_name = img_name.replace(\".tif\", \".png\")\n",
    "    new_name = \"labeled-data//no_video//\" + nf + \".\" + img_name                              \n",
    "    img = Image.open(f)\n",
    "    img.save(new_name, format=\"png\")\n",
    "    "
   ]
  },
  {
   "cell_type": "code",
   "execution_count": null,
   "metadata": {},
   "outputs": [],
   "source": [
    "# join all the tps file into a csv for use in DeepLabCut\n",
    "\n",
    "tps_files = glob.glob(r\"FA_MAT_GAT/**/**/*.tps\")"
   ]
  },
  {
   "cell_type": "code",
   "execution_count": 107,
   "metadata": {},
   "outputs": [],
   "source": [
    "## this is the CSV header structure for DeepLabCut\n",
    "## scorer bobdan, 15 bodyparts\n",
    "\n",
    "line1 = \"scorer,,\" + \",bobdan\"*30\n",
    "line2 = \"individuals,,\" + \",individual1\"*30\n",
    "line3 = \"bodyparts,,,1,1,2,2,3,3,4,4,5,5,6,6,7,7,8,8,9,9,10,10,11,11,12,12,13,13,14,14,15,15\"\n",
    "line4 = \"coords,,,x,y,x,y,x,y,x,y,x,y,x,y,x,y,x,y,x,y,x,y,x,y,x,y,x,y,x,y,x,y\"\n",
    "\n",
    "csv = line1 + \"\\n\" + line2 + \"\\n\" + line3 + \"\\n\" + line4 + \"\\n\"\n",
    "\n",
    "## And individual rows for each image, converting from TPS format to coords for deeplabcut\n",
    "\n",
    "for f in tps_files:\n",
    "    with open(f) as fp:\n",
    "        lines = fp.readlines()\n",
    "        for i in range(len(lines)):\n",
    "            line = lines[i]\n",
    "            if line.split(\"=\")[0] == 'LM': \n",
    "                lm = int(line.split(\"=\")[1])\n",
    "                coords = []\n",
    "                for k in range(lm):\n",
    "                    i +=1\n",
    "                    line = lines[i]\n",
    "                    x, y = map(float, line.split(\" \"))\n",
    "                    y = 1920 - y\n",
    "                    coords.append(x)\n",
    "                    coords.append(y)\n",
    "                i += 1\n",
    "                img, img_name = lines[i].split(\"=\")\n",
    "                i= i+ 2                \n",
    "                folder = f[f.find(\"\\\\\")+1:f.rfind((\"\\\\\"))] \n",
    "                nf = folder.replace(\"\\\\\", \".\")\n",
    "                img_name = img_name.rstrip(\"\\n\")\n",
    "                img_name = img_name.replace(\".tif\", \".png\")\n",
    "                new_name = nf + \".\" + img_name                              \n",
    "                row = \"labeled-data,no_video,\" + new_name + \",\" + \",\".join(str(int(c)) for c in coords)\n",
    "                csv += row + \"\\n\"\n"
   ]
  },
  {
   "cell_type": "code",
   "execution_count": 108,
   "metadata": {},
   "outputs": [],
   "source": [
    "with open(r\"labeled-data/no_video/CollectedData_bobdan.csv\", \"wt\") as f:\n",
    "    f.write(csv)"
   ]
  },
  {
   "cell_type": "code",
   "execution_count": null,
   "metadata": {},
   "outputs": [],
   "source": [
    "import pandas as pd\n",
    "df2 = pd.read_csv(\"./labeled-data/no_video/CollectedData_bobdan.csv\", header=[0,1,2,3], index_col=[0,1,2])\n",
    "df2"
   ]
  },
  {
   "cell_type": "code",
   "execution_count": 114,
   "metadata": {},
   "outputs": [],
   "source": [
    "df2.to_hdf(\"./labeled-data/no_video/CollectedData_roberto.h5\", \"df_with_missing\",\n",
    "    format=\"fixed\",\n",
    "    mode=\"w\")"
   ]
  }
 ],
 "metadata": {
  "kernelspec": {
   "display_name": "dlc",
   "language": "python",
   "name": "python3"
  },
  "language_info": {
   "codemirror_mode": {
    "name": "ipython",
    "version": 3
   },
   "file_extension": ".py",
   "mimetype": "text/x-python",
   "name": "python",
   "nbconvert_exporter": "python",
   "pygments_lexer": "ipython3",
   "version": "3.9.18"
  }
 },
 "nbformat": 4,
 "nbformat_minor": 2
}
